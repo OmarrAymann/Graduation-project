{
  "nbformat": 4,
  "nbformat_minor": 0,
  "metadata": {
    "colab": {
      "provenance": []
    },
    "kernelspec": {
      "name": "python3",
      "display_name": "Python 3"
    },
    "language_info": {
      "name": "python"
    }
  },
  "cells": [
    {
      "cell_type": "code",
      "execution_count": null,
      "metadata": {
        "id": "GnXmLlj_apOA"
      },
      "outputs": [],
      "source": [
        "import cv2\n",
        "from ultralytics import YOLO\n",
        "\n",
        "# ESP32 camera URL\n",
        "url = 'http://<ESP32_IP>/stream'\n",
        "\n",
        "# Load the YOLOv8n model\n",
        "model = YOLO(\"yolov8n.pt\")\n",
        "\n",
        "# Open a connection to the video stream\n",
        "cap = cv2.VideoCapture(url)\n",
        "\n",
        "while True:\n",
        "    ret, frame = cap.read()\n",
        "    if not ret:\n",
        "        print(\"Failed to capture image\")\n",
        "        break\n",
        "\n",
        "    # Run YOLOv8 inference on the frame\n",
        "    results = model(frame)\n",
        "\n",
        "    # Filter results to detect persons only (class ID for person in COCO dataset is 0)\n",
        "    person_detections = [det for det in results if det.cls == 0]\n",
        "\n",
        "    # Plot the filtered results\n",
        "    if person_detections:\n",
        "        for det in person_detections:\n",
        "            bbox = det.xyxy  # Bounding box coordinates\n",
        "            conf = det.conf  # Confidence score\n",
        "            label = model.names[int(det.cls)]  # Class label\n",
        "            x1, y1, x2, y2 = map(int, bbox)  # Bounding box coordinates\n",
        "\n",
        "            # Draw the bounding box and label on the frame\n",
        "            cv2.rectangle(frame, (x1, y1), (x2, y2), (0, 255, 0), 2)\n",
        "            cv2.putText(frame, f\"{label} {conf:.2f}\", (x1, y1 - 10), cv2.FONT_HERSHEY_SIMPLEX, 0.5, (0, 255, 0), 2)\n",
        "\n",
        "    # Display the result frame\n",
        "    cv2.imshow('ESP32 Camera YOLOv8 Person Detection', frame)\n",
        "\n",
        "    # Exit on pressing 'q'\n",
        "    if cv2.waitKey(1) & 0xFF == ord('q'):\n",
        "        break\n",
        "\n",
        "cap.release()\n",
        "cv2.destroyAllWindows()\n"
      ]
    }
  ]
}